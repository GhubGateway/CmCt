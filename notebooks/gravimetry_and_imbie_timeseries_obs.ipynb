{
 "cells": [
  {
   "cell_type": "markdown",
   "id": "0d4a2307-9ff9-4680-9f28-fa2a4ef86708",
   "metadata": {},
   "source": [
    "# Setup"
   ]
  },
  {
   "cell_type": "code",
   "execution_count": null,
   "id": "ea50e578-c1b9-4ee0-a127-b0d10c59515f",
   "metadata": {},
   "outputs": [],
   "source": [
    "# Import modules\n",
    "import os,sys\n",
    "import numpy as np\n",
    "from datetime import datetime\n",
    "\n",
    "# Add the directory containing 'cmct' to the Python path\n",
    "# Navigate one level up to reach main CmCt dir\n",
    "cmct_dir = os.path.abspath(os.path.join(os.getcwd(), os.pardir))\n",
    "# Import utilities for this comparison\n",
    "sys.path.insert(0,cmct_dir)\n",
    "\n",
    "import cmct\n",
    "\n",
    "import matplotlib as mpl\n",
    "from matplotlib import pyplot as plt"
   ]
  },
  {
   "cell_type": "code",
   "execution_count": null,
   "id": "943263b5-5e21-4e94-8da8-ea85bb456f85",
   "metadata": {},
   "outputs": [],
   "source": [
    "# Ice sheet\n",
    "loc = 'GIS' # 'GIS' or 'AIS'\n",
    "polar_stereographic = cmct.projection.set_projection(loc)\n",
    "\n",
    "# GSFC mascons filename\n",
    "gravimetry_gsfc_obs_filename = '/home/jovyan/shared-public/CmCt/datasets/gsfc.glb_.200204_202406_rl06v2.0_obp-ice6gd.h5'\n",
    "shape_filename = '/home/jovyan/CmCt/data/ne_10m_coastline/ne_10m_coastline.shp'\n",
    "\n",
    "# Set time range for comparison\n",
    "start_date = '2003-01-15' #'2003-01-15'\n",
    "end_date = '2024-12-31' #'2024-12-31' \n",
    "\n",
    "# IMBIE dataset filename\n",
    "if loc == 'GIS': imbie_obs_filename = cmct_dir + '/data/IMBIE/imbie_greenland_2021_Gt.csv'\n",
    "if loc == 'AIS': imbie_obs_filename = cmct_dir + '/data/IMBIE/imbie_antarctica_2021_Gt.csv'\n",
    "\n",
    "# To save files, provide filenames. To turn saving off, set filenames to 'None'\n",
    "plot_jpl_mascons_filename = 'mascons_jpl_' + loc + '.png'\n",
    "plot_timeseries_filename = 'timeseries_gravimetry_and_imbie_obs_' + loc + '.png'\n"
   ]
  },
  {
   "cell_type": "markdown",
   "id": "de9eeb7f-cc91-4904-90c3-ded59ab27d77",
   "metadata": {},
   "source": [
    "## Load JPL mascons"
   ]
  },
  {
   "cell_type": "code",
   "execution_count": null,
   "id": "3691d708-3e62-4806-bc34-0aadaf9a94e5",
   "metadata": {},
   "outputs": [],
   "source": [
    "!chmod 0400 ~/.netrc\n",
    "\n",
    "edl = 'urs.earthdata.nasa.gov'\n",
    "cmct.mascons.setup_earthdata_login_auth(edl)\n",
    "print('Earthdata login credentials configured. Ready.')"
   ]
  },
  {
   "cell_type": "code",
   "execution_count": null,
   "id": "c4321114-e0ed-4374-b61d-3cf51ccd5dae",
   "metadata": {},
   "outputs": [],
   "source": [
    "s3_bucket = 's3://podaac-ops-cumulus-protected/TELLUS_GRAC-GRFO_MASCON_CRI_GRID_RL06.3_V4'\n",
    "\n",
    "# Load observation data(mascons)\n",
    "ds_new, mascons_jpl = cmct.mascons.load_jpl_solution(s3_bucket)\n",
    "\n",
    "# Compute the mascon means and calulate mass change of observation data\n",
    "mass_change_obs_jpl, I_jpl_ = cmct.gravimetry.computeMasconMeans(mascons_jpl, start_date, end_date, loc)\n",
    "time_timeseries_jpl, mass_delta_Gt_timeseries_jpl = cmct.gravimetry.calc_mass_delta_Gt_timeseries(mascons_jpl, start_date, end_date, I_jpl_)\n",
    "\n",
    "# Convert times to years, months\n",
    "years_jpl, months_jpl = cmct.time_utils.dt64_to_years_months(time_timeseries_jpl)\n"
   ]
  },
  {
   "cell_type": "code",
   "execution_count": null,
   "id": "1af6f865-fcad-4afb-935a-4c74a42989d0",
   "metadata": {},
   "outputs": [],
   "source": [
    "# Check sum of mascon areas\n",
    "# From Mike Croteau's Mascon Visualization Tool:\n",
    "#  GIS area =  2189202.95\n",
    "#  AIS area = 12425189.72\n",
    "\n",
    "print('{: 10.2f}'.format(np.sum(mascons_jpl.areas[I_jpl_])))\n",
    "if loc == 'GIS': print('{: 10.2f}'.format( 2189202.95))\n",
    "if loc == 'AIS': print('{: 10.2f}'.format(12425189.72))"
   ]
  },
  {
   "cell_type": "markdown",
   "id": "2b2924ba-55a0-4b7c-9b2c-d1232e3701da",
   "metadata": {},
   "source": [
    "### Plot JPL mascons over the selected ice sheet"
   ]
  },
  {
   "cell_type": "code",
   "execution_count": null,
   "id": "91680ea9-d0b1-4338-ae35-22fd8bab10fd",
   "metadata": {},
   "outputs": [],
   "source": [
    "import cartopy.crs as ccrs\n",
    "\n",
    "i_0 = np.abs(ds_new['time_dt64'] - np.datetime64('2003-01-01T00:00:00.000000000')).argmin()\n",
    "i_1 = np.abs(ds_new['time_dt64'] - np.datetime64('2024-12-31T00:00:00.000000000')).argmin()\n",
    "\n",
    "\n",
    "plot_lons = np.arange(0.,360.25,.5)\n",
    "plot_lats = np.arange(-90.,90.25,.5)\n",
    "\n",
    "mascons_all = mascons_jpl.cmwe[:,i_1] - mascons_jpl.cmwe[:,i_0]\n",
    "plot_grid = np.nan * np.ones(mascons_all.shape)\n",
    "plot_grid[I_jpl_] = mascons_all[I_jpl_]\n",
    "plot_grid = plot_grid.reshape(360,720)\n",
    "\n",
    "plot_title = 'JPL Mascons (' + ds_new['time_dt64'][i_0].astype(str)[:10] + ' - ' + ds_new['time_dt64'][i_1].astype(str)[:10] + ')'\n",
    "plot_units = 'cm w.e. / yr'\n",
    "grid_min = -200\n",
    "grid_max = +200\n",
    "\n",
    "# Trend Plot\n",
    "polar_stereographic = cmct.projection.set_projection(loc)\n",
    "\n",
    "if loc == \"GIS\":\n",
    "    extent = [-65, -20, 57, 84]\n",
    "    resolution_value='10m'\n",
    "elif loc == \"AIS\":\n",
    "    extent = [-180, 180, -90, -65]\n",
    "    resolution_value='110m'\n",
    "\n",
    "fig = plt.figure(figsize=(8,8)) #, dpi=150)\n",
    "ax = plt.axes(projection=polar_stereographic)\n",
    "ax.set_extent(extent, crs=ccrs.PlateCarree())\n",
    "\n",
    "ax.gridlines(zorder=5, linestyle=':', linewidth=0.5)\n",
    "pc = ax.pcolormesh(plot_lons, plot_lats, plot_grid, cmap=plt.cm.Spectral, transform=ccrs.PlateCarree(), vmin=grid_min, vmax=grid_max)\n",
    "\n",
    "c = plt.colorbar(pc, shrink=0.8)\n",
    "c.ax.tick_params(labelsize=7)\n",
    "c.set_label(plot_units, size=7)\n",
    "\n",
    "ax.coastlines(resolution=resolution_value, zorder=10, linewidth=0.5)\n",
    "\n",
    "plt.title(plot_title)\n",
    "\n",
    "if plot_jpl_mascons_filename is not None: plt.savefig(plot_jpl_mascons_filename, bbox_inches='tight')\n"
   ]
  },
  {
   "cell_type": "markdown",
   "id": "e0181a73-7c3b-4014-96d8-8c495fadd38e",
   "metadata": {},
   "source": [
    "## Load GSFC mascons"
   ]
  },
  {
   "cell_type": "code",
   "execution_count": null,
   "id": "291cd5c9-c918-46e1-b8fd-43bd9858cb64",
   "metadata": {},
   "outputs": [],
   "source": [
    "# Load observation data(mascons)\n",
    "mascons_gsfc = cmct.gravimetry.loadGsfcMascons(gravimetry_gsfc_obs_filename)\n",
    "\n",
    "# Compute the mascon means and calulate mass change of observation data\n",
    "mass_change_obs_gsfc, I_gsfc_ = cmct.gravimetry.computeMasconMeans(mascons_gsfc, start_date, end_date, loc)\n",
    "time_timeseries_gsfc, mass_delta_Gt_timeseries_gsfc = cmct.gravimetry.calc_mass_delta_Gt_timeseries(mascons_gsfc, start_date, end_date, I_gsfc_)\n",
    "\n",
    "#cmct.gravimetry.plotFigure(mass_change_obs, mass_change_obs, mass_change_obs, mascons_gsfc, I_, start_date, end_date, polar_stereographic, loc, shape_filename, None)\n",
    "\n",
    "# Convert times to years, months\n",
    "years_gsfc, months_gsfc = cmct.time_utils.dt64_to_years_months(time_timeseries_gsfc)\n"
   ]
  },
  {
   "cell_type": "markdown",
   "id": "a78cd16e-54ce-4af4-932b-7d09238de081",
   "metadata": {},
   "source": [
    "## Load IMBIE"
   ]
  },
  {
   "cell_type": "code",
   "execution_count": null,
   "id": "555ae936-64eb-4402-9293-aef673fe6a34",
   "metadata": {},
   "outputs": [],
   "source": [
    "start_date_fract = 1992.0\n",
    "end_date_fract = 2024.0\n",
    "mass_balance_column = 'Cumulative mass balance (Gt)'\n",
    "\n",
    "# Read IMBIE mass change from start to end date\n",
    "IMBIE_mass_change = cmct.imbie.process_imbie_data(imbie_obs_filename, start_date_fract, end_date_fract, mass_balance_column)\n",
    "\n",
    "IMBIE_mass_change_annual = np.diff(IMBIE_mass_change['Cumulative mass balance (Gt)'][11::12].values)\n",
    "IMBIE_mass_change_annual = np.insert(IMBIE_mass_change_annual, 0, IMBIE_mass_change['Cumulative mass balance (Gt)'][12])\n",
    "\n",
    "IMBIE_mass_change_annual_cumulative = np.cumsum(IMBIE_mass_change_annual)\n"
   ]
  },
  {
   "cell_type": "markdown",
   "id": "2f69da93-5c69-40f6-8a13-87ed77d2a9de",
   "metadata": {},
   "source": [
    "## Plot all time series"
   ]
  },
  {
   "cell_type": "code",
   "execution_count": null,
   "id": "ea504497-0c71-4aac-b72a-0bee9d2e80ab",
   "metadata": {},
   "outputs": [],
   "source": [
    "colors = mpl.colormaps['tab10'].colors\n",
    "\n",
    "# Get reference mass from start of JPL mascon timeseries\n",
    "time_timeseries_jpl_ref = time_timeseries_jpl[0]\n",
    "mass_delta_Gt_ref = mass_delta_Gt_timeseries_jpl[0]\n",
    "\n",
    "# Get reference mass from start of JPL mascon timeseries\n",
    "time_timeseries_jpl_ref = np.datetime64(time_timeseries_jpl[0])\n",
    "mass_delta_Gt_ref = mass_delta_Gt_timeseries_jpl[0]\n",
    "\n",
    "# Shift the IMBIE curve to match the reference mass\n",
    "time_timeseries_IMBIE_dt = [np.datetime64(datetime(year, 1, 1)) for year in np.arange(1993,2021)]\n",
    "shift = mass_delta_Gt_ref - np.interp(cmct.time_utils.dt64_to_fractional_year(time_timeseries_jpl_ref), \\\n",
    "          [cmct.time_utils.dt64_to_fractional_year(t) for t in time_timeseries_IMBIE_dt], \\\n",
    "          IMBIE_mass_change_annual_cumulative)\n",
    "\n",
    "fig, ax = plt.subplots(2,1,figsize=(10,5))\n",
    "ax[0].plot(time_timeseries_gsfc, mass_delta_Gt_timeseries_gsfc, '.-', c=colors[2], label='GSFC mascons')\n",
    "ax[0].plot(time_timeseries_jpl,  mass_delta_Gt_timeseries_jpl,  '.-', c=colors[1], label='JPL mascons')\n",
    "ax[0].plot(time_timeseries_IMBIE_dt, IMBIE_mass_change_annual_cumulative+shift, '.-', c=colors[0], label='IMBIE (annual)')\n",
    "\n",
    "for year in range(2003,2024):\n",
    "    idx = years_jpl == year\n",
    "    ax[1].plot(months_jpl[idx], mass_delta_Gt_timeseries_jpl[idx]-mass_delta_Gt_timeseries_jpl[idx][2], '.-', c=[0.7, 0.7, 0.7], linewidth=0.3)\n",
    "year = 2024\n",
    "idx = years_jpl == year\n",
    "ax[1].plot(months_jpl[idx], mass_delta_Gt_timeseries_jpl[idx]-mass_delta_Gt_timeseries_jpl[idx][1], '.-', c=colors[1], linewidth=2.0, markersize=10) #, label='JPL mascons')\n",
    "\n",
    "ax[1].set_xticks(np.arange(1, 13))\n",
    "ax[1].set_xticklabels(['Jan', 'Feb', 'Mar', 'Apr', 'May', 'Jun', 'Jul', 'Aug', 'Sep', 'Oct', 'Nov', 'Dec'])\n",
    "\n",
    "# Add axes for sea level equivalent\n",
    "ax_sle = ax[0].secondary_yaxis(\"right\")\n",
    "ax_sle.set_yticks(np.array([-20, -15, -10, -5, 0, 5, 15]) * 361.8)\n",
    "ax_sle.set_yticklabels(['{: 4.1f}'.format(-yt/361.8) for yt in ax_sle.get_yticks()])\n",
    "ax_sle.set_ylabel('mm GMSL')\n",
    "ax_sle = ax[1].secondary_yaxis(\"right\")\n",
    "ax_sle.set_yticks(np.array([-2.0, -1.5, -1.0, -0.5, 0.0, 0.5, 1.5]) * 361.8)\n",
    "ax_sle.set_yticklabels(['{: 4.1f}'.format(-yt/361.8) for yt in ax_sle.get_yticks()])\n",
    "ax_sle.set_ylabel('mm GMSL')\n",
    "\n",
    "ax[0].legend()\n",
    "#ax[1].legend()\n",
    "\n",
    "ax[0].set_ylabel('Gt')\n",
    "ax[1].set_ylabel('Gt')\n",
    "ax[0].set_title(loc)\n",
    "\n",
    "if plot_timeseries_filename is not None: plt.savefig(plot_timeseries_filename, bbox_inches='tight')\n"
   ]
  },
  {
   "cell_type": "code",
   "execution_count": null,
   "id": "0789e531-a29b-445a-976d-ae2d49157c7b",
   "metadata": {},
   "outputs": [],
   "source": [
    "# Debug checks:\n",
    "# 1.) Check sum of mascon areas of Greenland and Antarctica in JPL mascons ... Greenland has extra mascons in Arctic Canada\n",
    "# 2.) Do we need to remove mass change from peripheral GICs in JPL/GSFC mascon solutions?\n",
    "# 3.) Plot full IMBIE timeseries or annual totals?\n",
    "\n",
    "# Ideas:\n",
    "# 1.) Rank 2024 in terms of annual change (loss or gain)\n",
    "years = np.unique(years_jpl)\n",
    "mass_annual_Gt_timeseries_jpl = np.nan * np.ones((len(years,)))\n",
    "for i, year in enumerate(years):\n",
    "    idx = years_jpl == year\n",
    "    mass_annual_Gt_timeseries_jpl[i] = mass_delta_Gt_timeseries_jpl[idx][-1] - mass_delta_Gt_timeseries_jpl[idx][0]\n",
    "\n",
    "year_biggest_loss = years[np.argmin(mass_annual_Gt_timeseries_jpl)]\n",
    "print(year_biggest_loss, np.min(mass_annual_Gt_timeseries_jpl))\n",
    "\n",
    "# 2.) Calculate sea-level contribution\n",
    "# DONE!\n",
    "\n",
    "# 3.) Maybe look at gain/loss over the year -> but would this make more sense if using balance years?\n",
    "# 4.) Add error bars\n",
    "# 5.) Do peripheral glaciers around GrIS need to be accounted for so that we don't double count?\n",
    "# 6.) Separate into regional changes and attribute to atm/ocean patterns?\n",
    "# 7.) ICESat-2 ???\n",
    "# 8.) Can we make an interactive site for the web?\n",
    "\n",
    "years = np.unique(years_jpl)\n",
    "mass_annual_Gt_timeseries_jpl = np.nan * np.ones((len(years,)))\n",
    "for i, year in enumerate(years):\n",
    "    idx = years_jpl == year\n",
    "    mass_annual_Gt_timeseries_jpl[i] = mass_delta_Gt_timeseries_jpl[idx][-1] - mass_delta_Gt_timeseries_jpl[idx][0]\n",
    "\n",
    "year_biggest_loss = years[np.argmin(mass_annual_Gt_timeseries_jpl)]\n",
    "print(year_biggest_loss, np.min(mass_annual_Gt_timeseries_jpl))\n"
   ]
  },
  {
   "cell_type": "code",
   "execution_count": null,
   "id": "0b9e158e-cc9b-49c5-aec5-fd78c506b106",
   "metadata": {},
   "outputs": [],
   "source": []
  }
 ],
 "metadata": {
  "kernelspec": {
   "display_name": "Python 3 (ipykernel)",
   "language": "python",
   "name": "python3"
  },
  "language_info": {
   "codemirror_mode": {
    "name": "ipython",
    "version": 3
   },
   "file_extension": ".py",
   "mimetype": "text/x-python",
   "name": "python",
   "nbconvert_exporter": "python",
   "pygments_lexer": "ipython3",
   "version": "3.11.9"
  }
 },
 "nbformat": 4,
 "nbformat_minor": 5
}
