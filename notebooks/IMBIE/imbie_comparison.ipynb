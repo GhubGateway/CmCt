{
 "cells": [
  {
   "cell_type": "markdown",
   "metadata": {},
   "source": [
    "# Cryosphere model Comparison tool (CmCt) --- IMBIE"
   ]
  },
  {
   "cell_type": "markdown",
   "metadata": {},
   "source": [
    "The CmCt IMBIE tool compares user-uploaded ice sheet modeled mass change to reconciled mass change observations from the Ice-sheet Mass Balance Intercomparison Exercise (IMBIE). The IMBIE data is provided as ice-sheet-integrated time series of mass change. In the future, IMBIE will partition mass change into drainage basins, as well as into total mass balance, surface mass balance, and dynamic mass balance and this tool is designed to be able to process those. The CmCt uses a drainage basin mask to partition modeled mass change into the separate basins and sums mass changes across all basins (`Masked_Total` in the output results). The CmCt also sums modeled mass change for the entire gridded model, without applying any basin masking ('Unmasked_Total` in the output results). Note that these two sums may be different, if the gridded model file contains grid cells that are outside of the IMBIE drainage basin mask."
   ]
  },
  {
   "cell_type": "markdown",
   "metadata": {},
   "source": [
    "## Input data requirements"
   ]
  },
  {
   "cell_type": "markdown",
   "metadata": {},
   "source": [
    "The input ice sheet model needs to be provided as a netCDF file. The user may upload a single input file that includes multiple years; future enhancements to this tool will allow users to upload model ensembles.\n",
    "\n",
    "There are several requirements for the comparison:\n",
    "\n",
    "### `Lithk` variable\n",
    "\n",
    "The CmCt Grace Mascon tool expects the uploaded model to contain thickness data (the `lithk` variable) for the comparison.\n",
    "\n",
    "### Rectangular grid\n",
    "\n",
    "At time of writing, models *must* be defined on a rectangular X-Y grid in the ISMIP6 standard projected polar-stereographic space. (Note, NOT a lat-lon grid!) The ISMIP6 standard projection is defined [here](https://theghub.org/groups/ismip6/wiki). \n",
    "\n",
    "### Date range\n",
    "\n",
    "The gravimetry data spans 04/2002 to 12/2023. The user can select start and end dates within this span as part of the setup for the tool."
   ]
  },
  {
   "cell_type": "code",
   "execution_count": 1,
   "metadata": {
    "code_folding": []
   },
   "outputs": [],
   "source": [
    "import os, sys\n",
    "import cftime \n",
    "\n",
    "# Add the directory containing 'cmct' to the Python path\n",
    "# Navigate two levels up to reach main CmCt dir\n",
    "cmct_dir = os.path.abspath(os.path.join(os.getcwd(), os.pardir, os.pardir))\n",
    "# Import utilities for this comparison\n",
    "sys.path.insert(0,cmct_dir)\n",
    "from cmct.imbie import *\n",
    "\n",
    "# # Suppress numpy.dtype size changed warnings\n",
    "# import warnings\n",
    "# warnings.filterwarnings('ignore')\n"
   ]
  },
  {
   "cell_type": "markdown",
   "metadata": {},
   "source": [
    "### Configure IMBIE comparison"
   ]
  },
  {
   "cell_type": "code",
   "execution_count": 2,
   "metadata": {},
   "outputs": [],
   "source": [
    "# Flag for the ice sheet region Greenland or Antarctica\n",
    "icesheet = 'GIS' # Select 'AIS' or 'GIS'\n",
    "\n",
    "# Start and end dates for comparison\n",
    "start_date = '2007-01-01'\n",
    "end_date ='2009-01-01'\n",
    "\n",
    "# Density of ice used in the model\n",
    "rho_ice = 918 # (kg/m^3)\n",
    "\n",
    "# Output file directory\n",
    "output_path = cmct_dir+ '/notebooks/IMBIE/'\n",
    "\n",
    "# Select IMBIE variable for mass change comparision (name of column in IMBIE dataset\n",
    "mass_balance_column = 'Mass balance (Gt/yr)'\n",
    "if mass_balance_column == 'Mass balance (Gt/yr)':\n",
    "    mass_balance_type = 'total'\n",
    "elif mass_balance_column == 'Dynamics mass balance anomaly (Gt/yr)':\n",
    "    mass_balance_type = 'dynamic'\n",
    "\n",
    "# Set model model filename, shapefile for basin partitioning, projection, and IMBIE dataset filename\n",
    "if icesheet == 'GIS':\n",
    "    # Projection\n",
    "    projection = 'EPSG:3413'\n",
    "    \n",
    "    # Model filename\n",
    "    nc_filename = cmct_dir + '/test/gris_dmdt_filt.nc'\n",
    "    \n",
    "    # Shapefile for basin partitioning\n",
    "    shape_filename = cmct_dir + '/data/IMBIE/Greenland_Basins_PS_v1.4.2/Greenland_Basins_PS_v1.4.2.shp'\n",
    "    \n",
    "    # IMBIE dataset filename\n",
    "    obs_filename = cmct_dir + '/data/IMBIE/imbie_greenland_2021_Gt.csv'\n",
    "\n",
    "    # Other regions --- these are used for Antarctica only, so set them to None for Greenland\n",
    "    obs_east_filename = None\n",
    "    obs_west_filename = None\n",
    "    obs_peninsula_filename = None\n",
    "    \n",
    "elif icesheet == 'AIS':\n",
    "    # Projection\n",
    "    projection = 'EPSG:3031'\n",
    "    \n",
    "    # Model filename\n",
    "    nc_filename = cmct_dir + '/test/ais_dmdt_grounded_filt.nc'\n",
    "    \n",
    "    # Shapefile for basin partitioning\n",
    "    shape_filename = cmct_dir + '/data/IMBIE/ANT_Basins_IMBIE2_v1.6/ANT_Basins_IMBIE2_v1.6.shp'\n",
    "    \n",
    "    # IMBIE dataset filename\n",
    "    obs_filename = cmct_dir + '/data/IMBIE/imbie_antarctica_2021_Gt.csv'\n",
    "    \n",
    "    # Other regions --- these are used for Antarctica and are not yet published, so set them to None for now\n",
    "    obs_east_filename = None\n",
    "    obs_west_filename = None\n",
    "    obs_peninsula_filename= None\n",
    "\n",
    "else:\n",
    "    raise ValueError('Invalid icesheet value. Must be \\'Greenland\\' or \\'Antarctica\\'.')\n",
    "    "
   ]
  },
  {
   "cell_type": "code",
   "execution_count": 3,
   "metadata": {},
   "outputs": [],
   "source": [
    "# Check if observation file exists\n",
    "if not os.path.exists(obs_filename):\n",
    "    raise FileNotFoundError(f\"Observation file not found: {obs_filename}\")\n",
    "\n",
    "# Check if model file exists    \n",
    "if not os.path.exists(nc_filename):\n",
    "    raise FileNotFoundError(f\"Model file not found: {nc_filename}\")\n",
    "\n",
    "if icesheet == 'AIS':\n",
    "    if (obs_east_filename and os.path.exists(obs_east_filename)) and \\\n",
    "           (obs_west_filename and os.path.exists(obs_west_filename)) and \\\n",
    "           (obs_peninsula_filename and os.path.exists(obs_peninsula_filename)):\n",
    "        # Check if regional observation files exist \n",
    "        if not os.path.exists(obs_east_filename):\n",
    "            raise FileNotFoundError(f\"Observation file not found: {obs_east_filename}\")\n",
    "        if not os.path.exists(obs_west_filename):\n",
    "            raise FileNotFoundError(f\"Observation file not found: {obs_west_filename}\")\n",
    "        if not os.path.exists(obs_peninsula_filename):\n",
    "            raise FileNotFoundError(f\"Observation file not found: {obs_peninsula_filename}\")"
   ]
  },
  {
   "cell_type": "markdown",
   "metadata": {},
   "source": [
    "## Mass change comparision processing"
   ]
  },
  {
   "cell_type": "code",
   "execution_count": 4,
   "metadata": {},
   "outputs": [],
   "source": [
    "# Open model file\n",
    "mod_ds = xr.open_dataset(nc_filename,use_cftime=True)\n",
    "time_var = mod_ds['time']\n",
    "\n",
    "# Convert start/end comparison times to fractional year\n",
    "calendar_type = time_var.to_index().calendar\n",
    "start_date_dt = datetime.datetime.strptime(start_date, '%Y-%m-%d')\n",
    "end_date_dt = datetime.datetime.strptime(end_date, '%Y-%m-%d')\n",
    "\n",
    "# Adjust day to be 30 ( to avoid error if it's the 31st day in a 360_day calendar)\n",
    "start_date_cftime = cftime.datetime(start_date_dt.year, start_date_dt.month, min(start_date_dt.day, 30), calendar=calendar_type)\n",
    "end_date_cftime = cftime.datetime(end_date_dt.year, end_date_dt.month, min(end_date_dt.day, 30), calendar=calendar_type)\n",
    "\n",
    "start_date_fract = start_date_cftime.year + (start_date_cftime.dayofyr-1) / days_in_year(start_date_cftime)\n",
    "end_date_fract = end_date_cftime.year + (end_date_cftime.dayofyr-1) / days_in_year(end_date_cftime)\n"
   ]
  },
  {
   "cell_type": "code",
   "execution_count": 5,
   "metadata": {},
   "outputs": [
    {
     "name": "stdout",
     "output_type": "stream",
     "text": [
      "The selected dates {start_date_cftime} and {end_date_cftime} are within the range of the model data.\n"
     ]
    }
   ],
   "source": [
    "# Read IMBIE mass change from start to end date\n",
    "IMBIE_mass_change = process_imbie_data(obs_filename, start_date_fract, end_date_fract, mass_balance_column)\n",
    "\n",
    "# Calculate time-varying modeled mass change\n",
    "model_mass_change = process_model_data(mod_ds,time_var, IMBIE_mass_change, start_date_cftime, end_date_cftime, start_date_fract, end_date_fract, rho_ice, projection, shape_filename, icesheet)\n",
    "\n",
    "# Calculate IMBIE-model mass change residuals\n",
    "imbie_model_residuals = calculate_model_imbie_residuals(start_date_fract, end_date_fract, icesheet, model_mass_change, IMBIE_mass_change, mass_balance_column, obs_east_filename, obs_west_filename, obs_peninsula_filename)\n"
   ]
  },
  {
   "cell_type": "markdown",
   "metadata": {},
   "source": [
    "## Display results and write output csv file"
   ]
  },
  {
   "cell_type": "code",
   "execution_count": 6,
   "metadata": {},
   "outputs": [
    {
     "name": "stdout",
     "output_type": "stream",
     "text": [
      "\n",
      " Time-varying Mass change comparison (total): 2007.0 - 2009.0\n",
      "Date            Basin/Region         Model mass change (Gt)    IMBIE mass change (Gt)    Residual (Gt)       \n",
      "2007.0          Masked_Total         0.0                       0.0                       0.0                 \n",
      "2007.0833       Masked_Total         -16.42                    -19.57                    -3.15               \n",
      "2007.1667       Masked_Total         -32.86                    -39.46                    -6.60               \n",
      "2007.25         Masked_Total         -49.28                    -59.75                    -10.47              \n",
      "2007.3333       Masked_Total         -65.70                    -80.36                    -14.66              \n",
      "2007.4167       Masked_Total         -82.15                    -101.17                   -19.03              \n",
      "2007.5          Masked_Total         -98.57                    -121.99                   -23.42              \n",
      "2007.5833       Masked_Total         -114.99                   -142.67                   -27.68              \n",
      "2007.6667       Masked_Total         -131.43                   -163.25                   -31.82              \n",
      "2007.75         Masked_Total         -147.85                   -183.68                   -35.83              \n",
      "2007.8333       Masked_Total         -164.27                   -203.94                   -39.67              \n",
      "2007.9167       Masked_Total         -180.71                   -223.98                   -43.26              \n",
      "2008.0          Masked_Total         -197.13                   -243.75                   -46.61              \n",
      "2008.0833       Masked_Total         -213.55                   -263.38                   -49.82              \n",
      "2008.1667       Masked_Total         -230.00                   -283.22                   -53.23              \n",
      "2008.25         Masked_Total         -246.42                   -303.35                   -56.94              \n",
      "2008.3333       Masked_Total         -262.84                   -323.68                   -60.84              \n",
      "2008.4167       Masked_Total         -279.28                   -344.11                   -64.83              \n",
      "2008.5          Masked_Total         -295.70                   -364.58                   -68.88              \n",
      "2008.5833       Masked_Total         -312.12                   -385.02                   -72.89              \n",
      "2008.6667       Masked_Total         -328.56                   -405.34                   -76.77              \n",
      "2008.75         Masked_Total         -344.98                   -425.48                   -80.50              \n",
      "2008.8333       Masked_Total         -361.40                   -445.40                   -83.99              \n",
      "2008.9167       Masked_Total         -377.85                   -465.01                   -87.17              \n",
      "2009.0          Masked_Total         -394.27                   -484.75                   -90.49              \n",
      "\n",
      "Writing data to CSV file: /home/jovyan/CmCt/notebooks/IMBIE/gris_dmdt_filt.csv\n"
     ]
    }
   ],
   "source": [
    "# Extract the base name of the nc file (without .nc extension)\n",
    "nc_base_filename = os.path.basename(nc_filename).replace('.nc', '')\n",
    "\n",
    "# Create the CSV filename by combining the output path and the base nc filename with .csv extension\n",
    "csv_filename = os.path.join(output_path, f\"{nc_base_filename}.csv\")\n",
    "\n",
    "# Write output csv file and display results\n",
    "write_and_display_mass_change_comparison_all_dates(icesheet, model_mass_change, imbie_model_residuals, mass_balance_type, start_date_fract, end_date_fract, csv_filename)\n",
    "   "
   ]
  },
  {
   "cell_type": "code",
   "execution_count": null,
   "metadata": {},
   "outputs": [],
   "source": []
  }
 ],
 "metadata": {
  "hide_input": false,
  "kernelspec": {
   "display_name": "Python 3 (ipykernel)",
   "language": "python",
   "name": "python3"
  },
  "language_info": {
   "codemirror_mode": {
    "name": "ipython",
    "version": 3
   },
   "file_extension": ".py",
   "mimetype": "text/x-python",
   "name": "python",
   "nbconvert_exporter": "python",
   "pygments_lexer": "ipython3",
   "version": "3.11.9"
  }
 },
 "nbformat": 4,
 "nbformat_minor": 4
}
